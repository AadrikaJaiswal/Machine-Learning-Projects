{
 "cells": [
  {
   "cell_type": "code",
   "execution_count": 2,
   "id": "681f42da",
   "metadata": {},
   "outputs": [
    {
     "data": {
      "text/html": [
       "<div>\n",
       "<style scoped>\n",
       "    .dataframe tbody tr th:only-of-type {\n",
       "        vertical-align: middle;\n",
       "    }\n",
       "\n",
       "    .dataframe tbody tr th {\n",
       "        vertical-align: top;\n",
       "    }\n",
       "\n",
       "    .dataframe thead th {\n",
       "        text-align: right;\n",
       "    }\n",
       "</style>\n",
       "<table border=\"1\" class=\"dataframe\">\n",
       "  <thead>\n",
       "    <tr style=\"text-align: right;\">\n",
       "      <th></th>\n",
       "      <th>Unnamed: 0</th>\n",
       "      <th>insert_date</th>\n",
       "      <th>origin</th>\n",
       "      <th>destination</th>\n",
       "      <th>start_date</th>\n",
       "      <th>end_date</th>\n",
       "      <th>train_type</th>\n",
       "      <th>price</th>\n",
       "      <th>train_class</th>\n",
       "      <th>fare</th>\n",
       "    </tr>\n",
       "  </thead>\n",
       "  <tbody>\n",
       "    <tr>\n",
       "      <th>0</th>\n",
       "      <td>702</td>\n",
       "      <td>2019-04-19 05:37:35</td>\n",
       "      <td>PONFERRADA</td>\n",
       "      <td>MADRID</td>\n",
       "      <td>2019-06-02 15:00:00</td>\n",
       "      <td>2019-06-02 19:42:00</td>\n",
       "      <td>MD-AVE</td>\n",
       "      <td>59.50</td>\n",
       "      <td>Turista con enlace</td>\n",
       "      <td>Flexible</td>\n",
       "    </tr>\n",
       "    <tr>\n",
       "      <th>1</th>\n",
       "      <td>703</td>\n",
       "      <td>2019-04-19 05:37:35</td>\n",
       "      <td>PONFERRADA</td>\n",
       "      <td>MADRID</td>\n",
       "      <td>2019-06-02 17:15:00</td>\n",
       "      <td>2019-06-02 23:03:00</td>\n",
       "      <td>MD-AVE</td>\n",
       "      <td>34.65</td>\n",
       "      <td>Turista con enlace</td>\n",
       "      <td>Promo +</td>\n",
       "    </tr>\n",
       "    <tr>\n",
       "      <th>2</th>\n",
       "      <td>704</td>\n",
       "      <td>2019-04-19 05:37:35</td>\n",
       "      <td>PONFERRADA</td>\n",
       "      <td>MADRID</td>\n",
       "      <td>2019-06-02 17:15:00</td>\n",
       "      <td>2019-06-02 23:10:00</td>\n",
       "      <td>MD-LD</td>\n",
       "      <td>39.95</td>\n",
       "      <td>Turista con enlace</td>\n",
       "      <td>Promo +</td>\n",
       "    </tr>\n",
       "    <tr>\n",
       "      <th>3</th>\n",
       "      <td>705</td>\n",
       "      <td>2019-04-19 05:37:35</td>\n",
       "      <td>PONFERRADA</td>\n",
       "      <td>MADRID</td>\n",
       "      <td>2019-06-02 17:15:00</td>\n",
       "      <td>2019-06-02 22:14:00</td>\n",
       "      <td>MD-AVE</td>\n",
       "      <td>40.60</td>\n",
       "      <td>Turista con enlace</td>\n",
       "      <td>Promo +</td>\n",
       "    </tr>\n",
       "    <tr>\n",
       "      <th>4</th>\n",
       "      <td>706</td>\n",
       "      <td>2019-04-19 05:37:35</td>\n",
       "      <td>PONFERRADA</td>\n",
       "      <td>MADRID</td>\n",
       "      <td>2019-06-02 18:55:00</td>\n",
       "      <td>2019-06-02 23:03:00</td>\n",
       "      <td>ALVIA</td>\n",
       "      <td>27.90</td>\n",
       "      <td>Turista</td>\n",
       "      <td>Promo</td>\n",
       "    </tr>\n",
       "    <tr>\n",
       "      <th>...</th>\n",
       "      <td>...</td>\n",
       "      <td>...</td>\n",
       "      <td>...</td>\n",
       "      <td>...</td>\n",
       "      <td>...</td>\n",
       "      <td>...</td>\n",
       "      <td>...</td>\n",
       "      <td>...</td>\n",
       "      <td>...</td>\n",
       "      <td>...</td>\n",
       "    </tr>\n",
       "    <tr>\n",
       "      <th>215904</th>\n",
       "      <td>2579717</td>\n",
       "      <td>2019-04-19 05:31:30</td>\n",
       "      <td>MADRID</td>\n",
       "      <td>SEVILLA</td>\n",
       "      <td>2019-06-01 17:00:00</td>\n",
       "      <td>2019-06-01 19:38:00</td>\n",
       "      <td>AVE</td>\n",
       "      <td>47.30</td>\n",
       "      <td>Turista</td>\n",
       "      <td>Promo</td>\n",
       "    </tr>\n",
       "    <tr>\n",
       "      <th>215905</th>\n",
       "      <td>2579718</td>\n",
       "      <td>2019-04-19 05:31:30</td>\n",
       "      <td>MADRID</td>\n",
       "      <td>SEVILLA</td>\n",
       "      <td>2019-06-01 18:00:00</td>\n",
       "      <td>2019-06-01 20:32:00</td>\n",
       "      <td>AVE</td>\n",
       "      <td>47.30</td>\n",
       "      <td>Turista</td>\n",
       "      <td>Promo</td>\n",
       "    </tr>\n",
       "    <tr>\n",
       "      <th>215906</th>\n",
       "      <td>2579719</td>\n",
       "      <td>2019-04-19 05:31:30</td>\n",
       "      <td>MADRID</td>\n",
       "      <td>SEVILLA</td>\n",
       "      <td>2019-06-01 19:00:00</td>\n",
       "      <td>2019-06-01 21:38:00</td>\n",
       "      <td>AVE</td>\n",
       "      <td>47.30</td>\n",
       "      <td>Turista</td>\n",
       "      <td>Promo</td>\n",
       "    </tr>\n",
       "    <tr>\n",
       "      <th>215907</th>\n",
       "      <td>2579720</td>\n",
       "      <td>2019-04-19 05:31:30</td>\n",
       "      <td>MADRID</td>\n",
       "      <td>SEVILLA</td>\n",
       "      <td>2019-06-01 20:35:00</td>\n",
       "      <td>2019-06-01 23:15:00</td>\n",
       "      <td>AVE</td>\n",
       "      <td>47.30</td>\n",
       "      <td>Turista</td>\n",
       "      <td>Promo</td>\n",
       "    </tr>\n",
       "    <tr>\n",
       "      <th>215908</th>\n",
       "      <td>2579721</td>\n",
       "      <td>2019-04-19 05:31:30</td>\n",
       "      <td>MADRID</td>\n",
       "      <td>SEVILLA</td>\n",
       "      <td>2019-06-01 21:25:00</td>\n",
       "      <td>2019-06-02 00:10:00</td>\n",
       "      <td>AV City</td>\n",
       "      <td>52.20</td>\n",
       "      <td>Turista Plus</td>\n",
       "      <td>Promo</td>\n",
       "    </tr>\n",
       "  </tbody>\n",
       "</table>\n",
       "<p>215909 rows × 10 columns</p>\n",
       "</div>"
      ],
      "text/plain": [
       "        Unnamed: 0          insert_date      origin destination  \\\n",
       "0              702  2019-04-19 05:37:35  PONFERRADA      MADRID   \n",
       "1              703  2019-04-19 05:37:35  PONFERRADA      MADRID   \n",
       "2              704  2019-04-19 05:37:35  PONFERRADA      MADRID   \n",
       "3              705  2019-04-19 05:37:35  PONFERRADA      MADRID   \n",
       "4              706  2019-04-19 05:37:35  PONFERRADA      MADRID   \n",
       "...            ...                  ...         ...         ...   \n",
       "215904     2579717  2019-04-19 05:31:30      MADRID     SEVILLA   \n",
       "215905     2579718  2019-04-19 05:31:30      MADRID     SEVILLA   \n",
       "215906     2579719  2019-04-19 05:31:30      MADRID     SEVILLA   \n",
       "215907     2579720  2019-04-19 05:31:30      MADRID     SEVILLA   \n",
       "215908     2579721  2019-04-19 05:31:30      MADRID     SEVILLA   \n",
       "\n",
       "                 start_date             end_date train_type  price  \\\n",
       "0       2019-06-02 15:00:00  2019-06-02 19:42:00     MD-AVE  59.50   \n",
       "1       2019-06-02 17:15:00  2019-06-02 23:03:00     MD-AVE  34.65   \n",
       "2       2019-06-02 17:15:00  2019-06-02 23:10:00      MD-LD  39.95   \n",
       "3       2019-06-02 17:15:00  2019-06-02 22:14:00     MD-AVE  40.60   \n",
       "4       2019-06-02 18:55:00  2019-06-02 23:03:00      ALVIA  27.90   \n",
       "...                     ...                  ...        ...    ...   \n",
       "215904  2019-06-01 17:00:00  2019-06-01 19:38:00        AVE  47.30   \n",
       "215905  2019-06-01 18:00:00  2019-06-01 20:32:00        AVE  47.30   \n",
       "215906  2019-06-01 19:00:00  2019-06-01 21:38:00        AVE  47.30   \n",
       "215907  2019-06-01 20:35:00  2019-06-01 23:15:00        AVE  47.30   \n",
       "215908  2019-06-01 21:25:00  2019-06-02 00:10:00    AV City  52.20   \n",
       "\n",
       "               train_class      fare  \n",
       "0       Turista con enlace  Flexible  \n",
       "1       Turista con enlace   Promo +  \n",
       "2       Turista con enlace   Promo +  \n",
       "3       Turista con enlace   Promo +  \n",
       "4                  Turista     Promo  \n",
       "...                    ...       ...  \n",
       "215904             Turista     Promo  \n",
       "215905             Turista     Promo  \n",
       "215906             Turista     Promo  \n",
       "215907             Turista     Promo  \n",
       "215908        Turista Plus     Promo  \n",
       "\n",
       "[215909 rows x 10 columns]"
      ]
     },
     "execution_count": 2,
     "metadata": {},
     "output_type": "execute_result"
    }
   ],
   "source": [
    "import pandas as pd\n",
    "data= pd.read_csv('data1.csv')#reading our csv data \n",
    "data"
   ]
  },
  {
   "cell_type": "code",
   "execution_count": 3,
   "id": "3191b6ee",
   "metadata": {},
   "outputs": [
    {
     "name": "stdout",
     "output_type": "stream",
     "text": [
      "<class 'pandas.core.frame.DataFrame'>\n",
      "RangeIndex: 215909 entries, 0 to 215908\n",
      "Data columns (total 10 columns):\n",
      " #   Column       Non-Null Count   Dtype  \n",
      "---  ------       --------------   -----  \n",
      " 0   Unnamed: 0   215909 non-null  int64  \n",
      " 1   insert_date  215909 non-null  object \n",
      " 2   origin       215909 non-null  object \n",
      " 3   destination  215909 non-null  object \n",
      " 4   start_date   215909 non-null  object \n",
      " 5   end_date     215909 non-null  object \n",
      " 6   train_type   215909 non-null  object \n",
      " 7   price        202321 non-null  float64\n",
      " 8   train_class  215266 non-null  object \n",
      " 9   fare         215266 non-null  object \n",
      "dtypes: float64(1), int64(1), object(8)\n",
      "memory usage: 16.5+ MB\n"
     ]
    }
   ],
   "source": [
    "data.info()"
   ]
  },
  {
   "cell_type": "code",
   "execution_count": 4,
   "id": "92903833",
   "metadata": {},
   "outputs": [],
   "source": [
    "#converting date from string object to datetime object for date manipulation\n",
    "data[\"start_date\"]=pd.to_datetime(data[\"start_date\"])\n",
    "data[\"end_date\"]=pd.to_datetime(data[\"end_date\"])"
   ]
  },
  {
   "cell_type": "code",
   "execution_count": 5,
   "id": "f6344eab",
   "metadata": {},
   "outputs": [
    {
     "name": "stdout",
     "output_type": "stream",
     "text": [
      "<class 'pandas.core.frame.DataFrame'>\n",
      "RangeIndex: 215909 entries, 0 to 215908\n",
      "Data columns (total 10 columns):\n",
      " #   Column       Non-Null Count   Dtype         \n",
      "---  ------       --------------   -----         \n",
      " 0   Unnamed: 0   215909 non-null  int64         \n",
      " 1   insert_date  215909 non-null  object        \n",
      " 2   origin       215909 non-null  object        \n",
      " 3   destination  215909 non-null  object        \n",
      " 4   start_date   215909 non-null  datetime64[ns]\n",
      " 5   end_date     215909 non-null  datetime64[ns]\n",
      " 6   train_type   215909 non-null  object        \n",
      " 7   price        202321 non-null  float64       \n",
      " 8   train_class  215266 non-null  object        \n",
      " 9   fare         215266 non-null  object        \n",
      "dtypes: datetime64[ns](2), float64(1), int64(1), object(6)\n",
      "memory usage: 16.5+ MB\n"
     ]
    }
   ],
   "source": [
    "data.info()"
   ]
  },
  {
   "cell_type": "code",
   "execution_count": 6,
   "id": "8ed4dac2",
   "metadata": {},
   "outputs": [],
   "source": [
    "data=data.dropna()#removing nulls"
   ]
  },
  {
   "cell_type": "code",
   "execution_count": 7,
   "id": "b3676cba",
   "metadata": {},
   "outputs": [
    {
     "name": "stdout",
     "output_type": "stream",
     "text": [
      "<class 'pandas.core.frame.DataFrame'>\n",
      "Int64Index: 202321 entries, 0 to 215908\n",
      "Data columns (total 10 columns):\n",
      " #   Column       Non-Null Count   Dtype         \n",
      "---  ------       --------------   -----         \n",
      " 0   Unnamed: 0   202321 non-null  int64         \n",
      " 1   insert_date  202321 non-null  object        \n",
      " 2   origin       202321 non-null  object        \n",
      " 3   destination  202321 non-null  object        \n",
      " 4   start_date   202321 non-null  datetime64[ns]\n",
      " 5   end_date     202321 non-null  datetime64[ns]\n",
      " 6   train_type   202321 non-null  object        \n",
      " 7   price        202321 non-null  float64       \n",
      " 8   train_class  202321 non-null  object        \n",
      " 9   fare         202321 non-null  object        \n",
      "dtypes: datetime64[ns](2), float64(1), int64(1), object(6)\n",
      "memory usage: 17.0+ MB\n"
     ]
    }
   ],
   "source": [
    "data.info()"
   ]
  },
  {
   "cell_type": "code",
   "execution_count": 8,
   "id": "83cf9710",
   "metadata": {},
   "outputs": [
    {
     "name": "stderr",
     "output_type": "stream",
     "text": [
      "C:\\Users\\KIIT\\AppData\\Local\\Temp\\ipykernel_59280\\2629377251.py:7: SettingWithCopyWarning: \n",
      "A value is trying to be set on a copy of a slice from a DataFrame.\n",
      "Try using .loc[row_indexer,col_indexer] = value instead\n",
      "\n",
      "See the caveats in the documentation: https://pandas.pydata.org/pandas-docs/stable/user_guide/indexing.html#returning-a-view-versus-a-copy\n",
      "  data['origin']=org.fit_transform(data[['origin']])\n",
      "C:\\Users\\KIIT\\AppData\\Local\\Temp\\ipykernel_59280\\2629377251.py:8: SettingWithCopyWarning: \n",
      "A value is trying to be set on a copy of a slice from a DataFrame.\n",
      "Try using .loc[row_indexer,col_indexer] = value instead\n",
      "\n",
      "See the caveats in the documentation: https://pandas.pydata.org/pandas-docs/stable/user_guide/indexing.html#returning-a-view-versus-a-copy\n",
      "  data['destination']=dest.fit_transform(data[['destination']])\n",
      "C:\\Users\\KIIT\\AppData\\Local\\Temp\\ipykernel_59280\\2629377251.py:9: SettingWithCopyWarning: \n",
      "A value is trying to be set on a copy of a slice from a DataFrame.\n",
      "Try using .loc[row_indexer,col_indexer] = value instead\n",
      "\n",
      "See the caveats in the documentation: https://pandas.pydata.org/pandas-docs/stable/user_guide/indexing.html#returning-a-view-versus-a-copy\n",
      "  data['train_type']=tty.fit_transform(data[['train_type']])\n",
      "C:\\Users\\KIIT\\AppData\\Local\\Temp\\ipykernel_59280\\2629377251.py:10: SettingWithCopyWarning: \n",
      "A value is trying to be set on a copy of a slice from a DataFrame.\n",
      "Try using .loc[row_indexer,col_indexer] = value instead\n",
      "\n",
      "See the caveats in the documentation: https://pandas.pydata.org/pandas-docs/stable/user_guide/indexing.html#returning-a-view-versus-a-copy\n",
      "  data['train_class']=tcl.fit_transform(data[['train_class']])\n"
     ]
    }
   ],
   "source": [
    "#Encoding the string data to make it usable during the training of the models\n",
    "from sklearn.preprocessing import OrdinalEncoder\n",
    "org=OrdinalEncoder()\n",
    "dest=OrdinalEncoder()\n",
    "tty=OrdinalEncoder()\n",
    "tcl=OrdinalEncoder()\n",
    "data['origin']=org.fit_transform(data[['origin']])\n",
    "data['destination']=dest.fit_transform(data[['destination']])\n",
    "data['train_type']=tty.fit_transform(data[['train_type']])\n",
    "data['train_class']=tcl.fit_transform(data[['train_class']])\n"
   ]
  },
  {
   "cell_type": "code",
   "execution_count": 23,
   "id": "9eb95808",
   "metadata": {},
   "outputs": [
    {
     "data": {
      "text/html": [
       "<div>\n",
       "<style scoped>\n",
       "    .dataframe tbody tr th:only-of-type {\n",
       "        vertical-align: middle;\n",
       "    }\n",
       "\n",
       "    .dataframe tbody tr th {\n",
       "        vertical-align: top;\n",
       "    }\n",
       "\n",
       "    .dataframe thead th {\n",
       "        text-align: right;\n",
       "    }\n",
       "</style>\n",
       "<table border=\"1\" class=\"dataframe\">\n",
       "  <thead>\n",
       "    <tr style=\"text-align: right;\">\n",
       "      <th></th>\n",
       "      <th>origin</th>\n",
       "      <th>destination</th>\n",
       "      <th>train_type</th>\n",
       "      <th>train_class</th>\n",
       "      <th>smonth</th>\n",
       "      <th>sday</th>\n",
       "      <th>shour</th>\n",
       "      <th>emonth</th>\n",
       "      <th>eday</th>\n",
       "      <th>ehour</th>\n",
       "    </tr>\n",
       "  </thead>\n",
       "  <tbody>\n",
       "    <tr>\n",
       "      <th>0</th>\n",
       "      <td>2.0</td>\n",
       "      <td>1.0</td>\n",
       "      <td>10.0</td>\n",
       "      <td>4.0</td>\n",
       "      <td>6</td>\n",
       "      <td>2</td>\n",
       "      <td>15</td>\n",
       "      <td>6</td>\n",
       "      <td>2</td>\n",
       "      <td>19</td>\n",
       "    </tr>\n",
       "    <tr>\n",
       "      <th>1</th>\n",
       "      <td>2.0</td>\n",
       "      <td>1.0</td>\n",
       "      <td>10.0</td>\n",
       "      <td>4.0</td>\n",
       "      <td>6</td>\n",
       "      <td>2</td>\n",
       "      <td>17</td>\n",
       "      <td>6</td>\n",
       "      <td>2</td>\n",
       "      <td>23</td>\n",
       "    </tr>\n",
       "    <tr>\n",
       "      <th>2</th>\n",
       "      <td>2.0</td>\n",
       "      <td>1.0</td>\n",
       "      <td>11.0</td>\n",
       "      <td>4.0</td>\n",
       "      <td>6</td>\n",
       "      <td>2</td>\n",
       "      <td>17</td>\n",
       "      <td>6</td>\n",
       "      <td>2</td>\n",
       "      <td>23</td>\n",
       "    </tr>\n",
       "    <tr>\n",
       "      <th>3</th>\n",
       "      <td>2.0</td>\n",
       "      <td>1.0</td>\n",
       "      <td>10.0</td>\n",
       "      <td>4.0</td>\n",
       "      <td>6</td>\n",
       "      <td>2</td>\n",
       "      <td>17</td>\n",
       "      <td>6</td>\n",
       "      <td>2</td>\n",
       "      <td>22</td>\n",
       "    </tr>\n",
       "    <tr>\n",
       "      <th>4</th>\n",
       "      <td>2.0</td>\n",
       "      <td>1.0</td>\n",
       "      <td>0.0</td>\n",
       "      <td>2.0</td>\n",
       "      <td>6</td>\n",
       "      <td>2</td>\n",
       "      <td>18</td>\n",
       "      <td>6</td>\n",
       "      <td>2</td>\n",
       "      <td>23</td>\n",
       "    </tr>\n",
       "    <tr>\n",
       "      <th>...</th>\n",
       "      <td>...</td>\n",
       "      <td>...</td>\n",
       "      <td>...</td>\n",
       "      <td>...</td>\n",
       "      <td>...</td>\n",
       "      <td>...</td>\n",
       "      <td>...</td>\n",
       "      <td>...</td>\n",
       "      <td>...</td>\n",
       "      <td>...</td>\n",
       "    </tr>\n",
       "    <tr>\n",
       "      <th>215904</th>\n",
       "      <td>1.0</td>\n",
       "      <td>3.0</td>\n",
       "      <td>2.0</td>\n",
       "      <td>2.0</td>\n",
       "      <td>6</td>\n",
       "      <td>1</td>\n",
       "      <td>17</td>\n",
       "      <td>6</td>\n",
       "      <td>1</td>\n",
       "      <td>19</td>\n",
       "    </tr>\n",
       "    <tr>\n",
       "      <th>215905</th>\n",
       "      <td>1.0</td>\n",
       "      <td>3.0</td>\n",
       "      <td>2.0</td>\n",
       "      <td>2.0</td>\n",
       "      <td>6</td>\n",
       "      <td>1</td>\n",
       "      <td>18</td>\n",
       "      <td>6</td>\n",
       "      <td>1</td>\n",
       "      <td>20</td>\n",
       "    </tr>\n",
       "    <tr>\n",
       "      <th>215906</th>\n",
       "      <td>1.0</td>\n",
       "      <td>3.0</td>\n",
       "      <td>2.0</td>\n",
       "      <td>2.0</td>\n",
       "      <td>6</td>\n",
       "      <td>1</td>\n",
       "      <td>19</td>\n",
       "      <td>6</td>\n",
       "      <td>1</td>\n",
       "      <td>21</td>\n",
       "    </tr>\n",
       "    <tr>\n",
       "      <th>215907</th>\n",
       "      <td>1.0</td>\n",
       "      <td>3.0</td>\n",
       "      <td>2.0</td>\n",
       "      <td>2.0</td>\n",
       "      <td>6</td>\n",
       "      <td>1</td>\n",
       "      <td>20</td>\n",
       "      <td>6</td>\n",
       "      <td>1</td>\n",
       "      <td>23</td>\n",
       "    </tr>\n",
       "    <tr>\n",
       "      <th>215908</th>\n",
       "      <td>1.0</td>\n",
       "      <td>3.0</td>\n",
       "      <td>1.0</td>\n",
       "      <td>3.0</td>\n",
       "      <td>6</td>\n",
       "      <td>1</td>\n",
       "      <td>21</td>\n",
       "      <td>6</td>\n",
       "      <td>2</td>\n",
       "      <td>0</td>\n",
       "    </tr>\n",
       "  </tbody>\n",
       "</table>\n",
       "<p>202321 rows × 10 columns</p>\n",
       "</div>"
      ],
      "text/plain": [
       "        origin  destination  train_type  train_class  smonth  sday  shour  \\\n",
       "0          2.0          1.0        10.0          4.0       6     2     15   \n",
       "1          2.0          1.0        10.0          4.0       6     2     17   \n",
       "2          2.0          1.0        11.0          4.0       6     2     17   \n",
       "3          2.0          1.0        10.0          4.0       6     2     17   \n",
       "4          2.0          1.0         0.0          2.0       6     2     18   \n",
       "...        ...          ...         ...          ...     ...   ...    ...   \n",
       "215904     1.0          3.0         2.0          2.0       6     1     17   \n",
       "215905     1.0          3.0         2.0          2.0       6     1     18   \n",
       "215906     1.0          3.0         2.0          2.0       6     1     19   \n",
       "215907     1.0          3.0         2.0          2.0       6     1     20   \n",
       "215908     1.0          3.0         1.0          3.0       6     1     21   \n",
       "\n",
       "        emonth  eday  ehour  \n",
       "0            6     2     19  \n",
       "1            6     2     23  \n",
       "2            6     2     23  \n",
       "3            6     2     22  \n",
       "4            6     2     23  \n",
       "...        ...   ...    ...  \n",
       "215904       6     1     19  \n",
       "215905       6     1     20  \n",
       "215906       6     1     21  \n",
       "215907       6     1     23  \n",
       "215908       6     2      0  \n",
       "\n",
       "[202321 rows x 10 columns]"
      ]
     },
     "execution_count": 23,
     "metadata": {},
     "output_type": "execute_result"
    }
   ],
   "source": [
    "#Constructing a table X having only the required independent features\n",
    "X=data.iloc[:,2:7]\n",
    "X[\"train_class\"]=data[\"train_class\"]\n",
    "X['smonth'] = X['start_date'].dt.month\n",
    "X['sday'] = X['start_date'].dt.day\n",
    "X['shour'] =X['start_date'].dt.hour\n",
    "X['emonth'] = X['end_date'].dt.month\n",
    "X['eday'] = X['end_date'].dt.day\n",
    "X['ehour'] =X['end_date'].dt.hour\n",
    "X=X.drop(['start_date'],axis=1)\n",
    "X=X.drop(['end_date'],axis=1)\n",
    "X"
   ]
  },
  {
   "cell_type": "code",
   "execution_count": 10,
   "id": "fc7ef8c4",
   "metadata": {},
   "outputs": [],
   "source": [
    "#Splitting the data into training and testing data\n",
    "from sklearn.model_selection import train_test_split\n",
    "X_train, X_test, y_train, y_test = train_test_split(X, data[\"price\"], test_size=0.30, random_state=42)"
   ]
  },
  {
   "cell_type": "markdown",
   "id": "ecf359a8",
   "metadata": {},
   "source": [
    "# XGBoost"
   ]
  },
  {
   "cell_type": "code",
   "execution_count": 12,
   "id": "494066ed",
   "metadata": {},
   "outputs": [
    {
     "data": {
      "text/plain": [
       "XGBRegressor(base_score=None, booster=None, callbacks=None,\n",
       "             colsample_bylevel=None, colsample_bynode=None,\n",
       "             colsample_bytree=None, early_stopping_rounds=None,\n",
       "             enable_categorical=False, eval_metric=None, feature_types=None,\n",
       "             gamma=None, gpu_id=None, grow_policy=None, importance_type=None,\n",
       "             interaction_constraints=None, learning_rate=None, max_bin=None,\n",
       "             max_cat_threshold=None, max_cat_to_onehot=None,\n",
       "             max_delta_step=None, max_depth=20, max_leaves=None,\n",
       "             min_child_weight=None, missing=nan, monotone_constraints=None,\n",
       "             n_estimators=100, n_jobs=None, num_parallel_tree=None,\n",
       "             predictor=None, random_state=25, ...)"
      ]
     },
     "execution_count": 12,
     "metadata": {},
     "output_type": "execute_result"
    }
   ],
   "source": [
    "import xgboost as xgb\n",
    "\n",
    "model= xgb.XGBRegressor(max_depth=20,seed=25,random_state=25)#initializing the xgboost model\n",
    "model.fit(X_train,y_train)#training the model"
   ]
  },
  {
   "cell_type": "code",
   "execution_count": 13,
   "id": "6574ac99",
   "metadata": {},
   "outputs": [
    {
     "data": {
      "text/plain": [
       "array([28.350002, 28.350002, 69.80008 , ..., 28.350002, 51.149765,\n",
       "       53.400093], dtype=float32)"
      ]
     },
     "execution_count": 13,
     "metadata": {},
     "output_type": "execute_result"
    }
   ],
   "source": [
    "y_pred_train=model.predict(X_train)#testing the model against training data \n",
    "y_pred_test = model.predict(X_test)#testing the model against testing data \n",
    "y_pred_test"
   ]
  },
  {
   "cell_type": "code",
   "execution_count": 14,
   "id": "643cf629",
   "metadata": {},
   "outputs": [
    {
     "data": {
      "text/plain": [
       "(0.9750932774503452, 0.9756076043927295)"
      ]
     },
     "execution_count": 14,
     "metadata": {},
     "output_type": "execute_result"
    }
   ],
   "source": [
    "from sklearn.metrics import r2_score\n",
    "s=r2_score(y_train,y_pred_train)#calculating R2 score against training data\n",
    "s1=r2_score(y_test,y_pred_test)#calculating R2 score against test data\n",
    "s,s1\n"
   ]
  },
  {
   "cell_type": "code",
   "execution_count": 44,
   "id": "8013f696",
   "metadata": {},
   "outputs": [
    {
     "name": "stdout",
     "output_type": "stream",
     "text": [
      "MSE FOR XGBoost on training data: 16.23256078721982\n",
      "MSE FOR XGBoost REGRESSION on testing data: 15.90817127217147\n",
      "RMSE FOR XGBoost on training data: 4.028965225367404\n",
      "RMSE FOR XGBoost Tree on testing data: 3.988504891832461\n"
     ]
    }
   ],
   "source": [
    "from sklearn.metrics import mean_squared_error\n",
    "print(\"MSE FOR XGBoost on training data:\",mean_squared_error(y_train,y_pred_train))#printing the mean squared error against training data\n",
    "print(\"MSE FOR XGBoost REGRESSION on testing data:\",mean_squared_error(y_test,y_pred_test))#printing the mean squared error against test data\n",
    "from math import sqrt\n",
    "print(\"RMSE FOR XGBoost on training data:\",sqrt(mean_squared_error(y_train,y_pred_train)))#printing the mean squared error against training data\n",
    "print(\"RMSE FOR XGBoost Tree on testing data:\",sqrt(mean_squared_error(y_test,y_pred_test)))#printing the mean squared error"
   ]
  },
  {
   "cell_type": "code",
   "execution_count": 64,
   "id": "4d29ef90",
   "metadata": {},
   "outputs": [
    {
     "name": "stdout",
     "output_type": "stream",
     "text": [
      "MAE FOR XGBoost on training data: 1.1672800443563418\n",
      "MAE FOR XGBoost Tree on testing data: 1.1908350028673056\n"
     ]
    }
   ],
   "source": [
    "from sklearn.metrics import mean_absolute_error\n",
    "print(\"MAE FOR XGBoost on training data:\",mean_absolute_error(y_train,y_pred_train))#printing the mean absolute error against training data\n",
    "print(\"MAE FOR XGBoost Tree on testing data:\",mean_absolute_error(y_test,y_pred_test))#printing the mean absolute error against test data"
   ]
  },
  {
   "cell_type": "markdown",
   "id": "ac695877",
   "metadata": {},
   "source": [
    "# ADABoost"
   ]
  },
  {
   "cell_type": "code",
   "execution_count": 17,
   "id": "32959615",
   "metadata": {},
   "outputs": [
    {
     "data": {
      "text/plain": [
       "AdaBoostRegressor(n_estimators=7, random_state=0)"
      ]
     },
     "execution_count": 17,
     "metadata": {},
     "output_type": "execute_result"
    }
   ],
   "source": [
    "from sklearn.ensemble import AdaBoostRegressor\n",
    "regr = AdaBoostRegressor(random_state=0,n_estimators=7)#initializing the adaboost model\n",
    "regr.fit(X_train,y_train)#training the model"
   ]
  },
  {
   "cell_type": "code",
   "execution_count": 18,
   "id": "46adc184",
   "metadata": {},
   "outputs": [
    {
     "data": {
      "text/plain": [
       "array([28.35      , 28.35      , 83.1709113 , ..., 28.35      ,\n",
       "       59.94812293, 51.30374935])"
      ]
     },
     "execution_count": 18,
     "metadata": {},
     "output_type": "execute_result"
    }
   ],
   "source": [
    "y_pred_train_ada=regr.predict(X_train)#testing the model against training data \n",
    "y_pred_test_ada = regr.predict(X_test)#testing the model against test data \n",
    "y_pred_test_ada"
   ]
  },
  {
   "cell_type": "code",
   "execution_count": 19,
   "id": "ec823a4a",
   "metadata": {},
   "outputs": [
    {
     "data": {
      "text/plain": [
       "(0.7243902946528655, 0.7282862112600295)"
      ]
     },
     "execution_count": 19,
     "metadata": {},
     "output_type": "execute_result"
    }
   ],
   "source": [
    "s=r2_score(y_train,y_pred_train_ada)#calculating R2 score against training data\n",
    "s1=r2_score(y_test,y_pred_test_ada)#calculating R2 score against test data\n",
    "s,s1"
   ]
  },
  {
   "cell_type": "code",
   "execution_count": 42,
   "id": "02687890",
   "metadata": {},
   "outputs": [
    {
     "name": "stdout",
     "output_type": "stream",
     "text": [
      "MSE FOR ADABoost on training data: 179.62424749687207\n",
      "MSE FOR ADABoost on testing data: 177.20561595834823\n",
      "RMSE FOR ADABoost on training data: 13.402397080256653\n",
      "RMSE FOR ADABoost Tree on testing data: 13.311859973660638\n"
     ]
    }
   ],
   "source": [
    "from sklearn.metrics import mean_squared_error\n",
    "print(\"MSE FOR ADABoost on training data:\",mean_squared_error(y_train,y_pred_train_ada))#printing the mean squared error against training data\n",
    "print(\"MSE FOR ADABoost on testing data:\",mean_squared_error(y_test,y_pred_test_ada))#printing the mean squared error against test data\n",
    "from math import sqrt\n",
    "print(\"RMSE FOR ADABoost on training data:\",sqrt(mean_squared_error(y_train,y_pred_train_ada)))#printing the mean squared error against training data\n",
    "print(\"RMSE FOR ADABoost Tree on testing data:\",sqrt(mean_squared_error(y_test,y_pred_test_ada)))#printing the mean squared error"
   ]
  },
  {
   "cell_type": "code",
   "execution_count": 51,
   "id": "13990ebe",
   "metadata": {},
   "outputs": [
    {
     "name": "stdout",
     "output_type": "stream",
     "text": [
      "MAE FOR ADABoost on training data: 8.710888268230992\n",
      "MAE FOR ADABoost Tree on testing data: 8.695978320648067\n"
     ]
    }
   ],
   "source": [
    "from sklearn.metrics import mean_absolute_error\n",
    "print(\"MAE FOR ADABoost on training data:\",mean_absolute_error(y_train,y_pred_train_ada))#printing the mean absolute error against training data\n",
    "print(\"MAE FOR ADABoost Tree on testing data:\",mean_absolute_error(y_test,y_pred_test_ada))#printing the mean absolute error against test data"
   ]
  },
  {
   "cell_type": "markdown",
   "id": "9e8bbfac",
   "metadata": {},
   "source": [
    "# Random Forest"
   ]
  },
  {
   "cell_type": "code",
   "execution_count": 22,
   "id": "c50bb2d7",
   "metadata": {},
   "outputs": [
    {
     "data": {
      "text/plain": [
       "RandomForestRegressor(max_depth=35, random_state=25)"
      ]
     },
     "execution_count": 22,
     "metadata": {},
     "output_type": "execute_result"
    }
   ],
   "source": [
    "from sklearn.ensemble import RandomForestRegressor\n",
    "\n",
    "forest= RandomForestRegressor(max_depth=35,random_state=25)#initializing the adaboost model\n",
    "forest.fit(X_train,y_train)#training the model"
   ]
  },
  {
   "cell_type": "code",
   "execution_count": 23,
   "id": "83a3939a",
   "metadata": {},
   "outputs": [
    {
     "data": {
      "text/plain": [
       "array([28.35, 28.35, 69.8 , ..., 28.35, 51.15, 53.4 ])"
      ]
     },
     "execution_count": 23,
     "metadata": {},
     "output_type": "execute_result"
    }
   ],
   "source": [
    "y_pred_train_forest=forest.predict(X_train)#testing the model against training data\n",
    "y_pred_test_forest = forest.predict(X_test)#testing the model against test data\n",
    "y_pred_test_forest"
   ]
  },
  {
   "cell_type": "code",
   "execution_count": 24,
   "id": "876bca94",
   "metadata": {},
   "outputs": [
    {
     "data": {
      "text/plain": [
       "(0.9750339726393484, 0.9754695413916847)"
      ]
     },
     "execution_count": 24,
     "metadata": {},
     "output_type": "execute_result"
    }
   ],
   "source": [
    "s=r2_score(y_train,y_pred_train_forest)#calculating R2 score against training data\n",
    "s1=r2_score(y_test,y_pred_test_forest)#calculating R2 score against test data\n",
    "s,s1 #displaying the r2 scores"
   ]
  },
  {
   "cell_type": "code",
   "execution_count": 39,
   "id": "32099544",
   "metadata": {},
   "outputs": [
    {
     "name": "stdout",
     "output_type": "stream",
     "text": [
      "MSE FOR Random Forest on training data: 16.271211755750976\n",
      "MSE FOR Random Forest on testing data: 15.998212853258174\n",
      "RMSE FOR Random Forest on training data: 4.033759010619124\n",
      "RMSE FOR Random Forest on testing data: 3.99977660041885\n"
     ]
    }
   ],
   "source": [
    "from sklearn.metrics import mean_squared_error\n",
    "print(\"MSE FOR Random Forest on training data:\",mean_squared_error(y_train,y_pred_train_forest))#printing the mean squared error against training data\n",
    "print(\"MSE FOR Random Forest on testing data:\",mean_squared_error(y_test,y_pred_test_forest))#printing the mean squared error against test data\n",
    "from math import sqrt\n",
    "print(\"RMSE FOR Random Forest on training data:\",sqrt(mean_squared_error(y_train,y_pred_train_forest)))#printing the root mean squared error against training data\n",
    "print(\"RMSE FOR Random Forest on testing data:\",sqrt(mean_squared_error(y_test,y_pred_test_forest)))#printing the root mean squared error"
   ]
  },
  {
   "cell_type": "code",
   "execution_count": 63,
   "id": "e6ea3b40",
   "metadata": {},
   "outputs": [
    {
     "name": "stdout",
     "output_type": "stream",
     "text": [
      "MAE FOR Random Forest on training data: 1.1728939759112087\n",
      "MAE FOR Random Forest on testing data: 1.199524825773945\n"
     ]
    }
   ],
   "source": [
    "from sklearn.metrics import mean_absolute_error\n",
    "print(\"MAE FOR Random Forest on training data:\",mean_absolute_error(y_train,y_pred_train_forest))#printing the mean absolute error against training data\n",
    "print(\"MAE FOR Random Forest on testing data:\",mean_absolute_error(y_test,y_pred_test_forest))#printing the mean absolute error against test data"
   ]
  },
  {
   "cell_type": "markdown",
   "id": "81dd6d92",
   "metadata": {},
   "source": [
    "# Decision Tree"
   ]
  },
  {
   "cell_type": "code",
   "execution_count": 58,
   "id": "7c82750d",
   "metadata": {},
   "outputs": [
    {
     "data": {
      "text/plain": [
       "array([28.35      , 28.35      , 82.70146809, ..., 28.35      ,\n",
       "       56.23342435, 48.46909846])"
      ]
     },
     "execution_count": 58,
     "metadata": {},
     "output_type": "execute_result"
    }
   ],
   "source": [
    "from sklearn.tree import DecisionTreeRegressor\n",
    "DTregressor = DecisionTreeRegressor(max_depth=3)# Checking for accuracy with Lower max_depth value of 3\n",
    "DTregressor.fit(X_train,y_train)#training our decision tree \n",
    "y_pred_train_DTree=DTregressor.predict(X_train)#testing our model against Training data\n",
    "y_pred_test_DTree = DTregressor.predict(X_test)#testing our model against Test data\n",
    "y_pred_test_DTree\n"
   ]
  },
  {
   "cell_type": "code",
   "execution_count": 59,
   "id": "91eee981",
   "metadata": {},
   "outputs": [
    {
     "data": {
      "text/plain": [
       "(0.7238795354154002, 0.7292054562682828)"
      ]
     },
     "execution_count": 59,
     "metadata": {},
     "output_type": "execute_result"
    }
   ],
   "source": [
    "s=r2_score(y_train,y_pred_train_DTree)#R2 score against train data for lower max_depth\n",
    "s1=r2_score(y_test,y_pred_test_DTree)#R2 score against test data for lower max_depth\n",
    "s,s1 #printing R2 score for lower max_depth"
   ]
  },
  {
   "cell_type": "code",
   "execution_count": 60,
   "id": "6da11e95",
   "metadata": {},
   "outputs": [],
   "source": [
    "from sklearn.tree import DecisionTreeRegressor\n",
    "DTregressor = DecisionTreeRegressor(max_depth=35)# Checking for accuracy with Higher max_depth value of 35"
   ]
  },
  {
   "cell_type": "code",
   "execution_count": 61,
   "id": "bb7a66e9",
   "metadata": {},
   "outputs": [
    {
     "data": {
      "text/plain": [
       "DecisionTreeRegressor(max_depth=35)"
      ]
     },
     "execution_count": 61,
     "metadata": {},
     "output_type": "execute_result"
    }
   ],
   "source": [
    "DTregressor.fit(X_train,y_train)#training our decision tree with higher max_depth value of 35 "
   ]
  },
  {
   "cell_type": "code",
   "execution_count": 62,
   "id": "eddf62d2",
   "metadata": {},
   "outputs": [
    {
     "data": {
      "text/plain": [
       "array([28.35, 28.35, 69.8 , ..., 28.35, 51.15, 53.4 ])"
      ]
     },
     "execution_count": 62,
     "metadata": {},
     "output_type": "execute_result"
    }
   ],
   "source": [
    "y_pred_train_DTree=DTregressor.predict(X_train)#testing our model against training data\n",
    "y_pred_test_DTree = DTregressor.predict(X_test)#testing the model against test data\n",
    "y_pred_test_DTree"
   ]
  },
  {
   "cell_type": "code",
   "execution_count": 33,
   "id": "7e76ec06",
   "metadata": {},
   "outputs": [
    {
     "data": {
      "text/plain": [
       "(0.9750932777393523, 0.9753682881566392)"
      ]
     },
     "execution_count": 33,
     "metadata": {},
     "output_type": "execute_result"
    }
   ],
   "source": [
    "s=r2_score(y_train,y_pred_train_DTree)#R2 score against train data for higher max_depth\n",
    "s1=r2_score(y_test,y_pred_test_DTree)#R2 score against test data for higher max_depth\n",
    "s,s1"
   ]
  },
  {
   "cell_type": "code",
   "execution_count": 38,
   "id": "49a8e538",
   "metadata": {},
   "outputs": [
    {
     "name": "stdout",
     "output_type": "stream",
     "text": [
      "MSE FOR Decision Tree on training data: 16.232560598864136\n",
      "MSE FOR Decision Tree on testing data: 16.06424793365368\n",
      "RMSE FOR Decision Tree on training data: 4.028965201992211\n",
      "RMSE FOR Decision Tree on testing data: 4.008022945749397\n"
     ]
    }
   ],
   "source": [
    "from sklearn.metrics import mean_squared_error\n",
    "print(\"MSE FOR Decision Tree on training data:\",mean_squared_error(y_train,y_pred_train_DTree))#printing the mean squared error against training data\n",
    "print(\"MSE FOR Decision Tree on testing data:\",mean_squared_error(y_test,y_pred_test_DTree))#printing the mean squared error against test data\n",
    "from math import sqrt\n",
    "print(\"RMSE FOR Decision Tree on training data:\",sqrt(mean_squared_error(y_train,y_pred_train_DTree)))#printing the mean squared error against training data\n",
    "print(\"RMSE FOR Decision Tree on testing data:\",sqrt(mean_squared_error(y_test,y_pred_test_DTree)))#printing the mean squared error against test data"
   ]
  },
  {
   "cell_type": "code",
   "execution_count": 57,
   "id": "df1d75b9",
   "metadata": {},
   "outputs": [
    {
     "name": "stdout",
     "output_type": "stream",
     "text": [
      "MAE FOR Decision Tree on training data: 1.167209287521788\n",
      "MAE FOR Decision Tree on testing data: 1.1950972732762362\n"
     ]
    }
   ],
   "source": [
    "from sklearn.metrics import mean_absolute_error\n",
    "print(\"MAE FOR Decision Tree on training data:\",mean_absolute_error(y_train,y_pred_train_DTree))#printing the mean absolute error against training data\n",
    "print(\"MAE FOR Decision Tree on testing data:\",mean_absolute_error(y_test,y_pred_test_DTree))#printing the mean absolute error against test data "
   ]
  },
  {
   "cell_type": "markdown",
   "id": "49ac0bfd",
   "metadata": {},
   "source": [
    "# POLYNOMIAL REGRESSION"
   ]
  },
  {
   "cell_type": "code",
   "execution_count": 10,
   "id": "e92329e9",
   "metadata": {},
   "outputs": [
    {
     "name": "stdout",
     "output_type": "stream",
     "text": [
      "For test data:\n",
      "At 1th degree MSE = 179.26899501235033, RMSE = 13.389137201939128, R2 score = 0.7251223807158474, MAE = 9.514762471258592\n",
      "For train data:\n",
      "At 1th degree MSE = 182.45706614661773, RMSE = 13.50766693943176, R2 score = 0.7200437082412963, MAE = 9.514762471258592\n",
      "For test data:\n",
      "At 2th degree MSE = 136.03627549808917, RMSE = 11.663458985141979, R2 score = 0.7914121873521871, MAE = 8.027649359162334\n",
      "For train data:\n",
      "At 2th degree MSE = 138.89832026696976, RMSE = 11.785513152466878, R2 score = 0.7868788559703885, MAE = 8.027649359162334\n",
      "For test data:\n",
      "At 3th degree MSE = 108.31296786965991, RMSE = 10.407351626117949, R2 score = 0.833921026089526, MAE = 6.746557426317042\n",
      "For train data:\n",
      "At 3th degree MSE = 110.27713015874389, RMSE = 10.50129183285294, R2 score = 0.8307942954633213, MAE = 6.746557426317042\n",
      "For test data:\n",
      "At 4th degree MSE = 88.13474797007352, RMSE = 9.388010863333804, R2 score = 0.86486079371085, MAE = 5.8176862086640435\n",
      "For train data:\n",
      "At 4th degree MSE = 89.37138299445067, RMSE = 9.453643900340792, R2 score = 0.8628714058551845, MAE = 5.8176862086640435\n",
      "For test data:\n",
      "At 5th degree MSE = 78.77209223921945, RMSE = 8.875364344026641, R2 score = 0.8792167871568835, MAE = 5.441986147075799\n",
      "For train data:\n",
      "At 5th degree MSE = 79.63758442547058, RMSE = 8.92398926632426, R2 score = 0.8778066353294329, MAE = 5.441986147075799\n",
      "For test data:\n",
      "At 6th degree MSE = 72.19192398806973, RMSE = 8.496583077218144, R2 score = 0.8893063231820092, MAE = 5.148924734149279\n",
      "For train data:\n",
      "At 6th degree MSE = 73.17302542045853, RMSE = 8.554123299348596, R2 score = 0.8877256480874491, MAE = 5.148924734149279\n"
     ]
    }
   ],
   "source": [
    "from sklearn.preprocessing import PolynomialFeatures\n",
    "from sklearn.linear_model import LinearRegression\n",
    "from sklearn.metrics import r2_score\n",
    "from sklearn.metrics import mean_absolute_error\n",
    "from sklearn.metrics import mean_squared_error\n",
    "from math import sqrt\n",
    "mse_train = []#for storing the mse for every degree against training data\n",
    "mse_test = []#for storing the mse for every degree against testing data\n",
    "mae_train = []#for storing the mae for every degree against training data\n",
    "mae_test = []#for storing the mae for every degree against testing data\n",
    "rmse_train = []#for storing the rmse for every degree against training data\n",
    "rmse_test = []#for storing the rmse for every degree against testing data\n",
    "r2_train = []#for storing the r2 score for every degree against training data\n",
    "r2_test = []#for storing the r2 score for every degree again testing data\n",
    "\n",
    "for i in range(1, 7):#training to from degree 1 to 6\n",
    "    poly_reg =PolynomialFeatures(degree=i)#initializing the Polynomial features scaler to a degree i\n",
    "    X_tr_poly, X_tst_poly =poly_reg.fit_transform(X_train), poly_reg.fit_transform(X_test)#Transforming independent features upto degree i to be trained for polynomial regression \n",
    "    poly=LinearRegression()#initializing the Linear Regression model to be used actually for polynomial regression \n",
    "    poly.fit(X_tr_poly, y_train)#training the model\n",
    "    y_tr_predicted, y_tst_predict = poly.predict(X_tr_poly), poly.predict(X_tst_poly)#testing the model against training and testing data\n",
    "    r2_train.append(r2_score (y_train, y_tr_predicted))#appending R2 score for each ith degree against training data\n",
    "    r2_test.append(r2_score (y_test, y_tst_predict))#appending R2 score for each ith degree against testing data\n",
    "    mse_train.append(mean_squared_error(y_train, y_tr_predicted))#appending mse score for each ith degree against training data\n",
    "    mse_test.append(mean_squared_error(y_test, y_tst_predict))#appending mse score for each ith degree against training data\n",
    "    mae_train.append(mean_absolute_error(y_train, y_tr_predicted))#appending mse score for each ith degree against training data\n",
    "    mae_test.append(mean_absolute_error(y_test, y_tst_predict))#appending mse score for each ith degree against training data\n",
    "    rmse_train.append(sqrt(mean_squared_error(y_train, y_tr_predicted)))#appending rmse score for each ith degree against training data\n",
    "    rmse_test.append(sqrt(mean_squared_error(y_test, y_tst_predict)))#appending rmse score for each ith degree against training data\n",
    "    print(\"For test data:\")\n",
    "    print(\"At \",i,\"th degree MSE = \",mean_squared_error(y_test, y_tst_predict),\", RMSE = \",sqrt(mean_squared_error(y_test, y_tst_predict)),\", R2 score = \",r2_score (y_test, y_tst_predict),\", MAE = \",mean_absolute_error(y_test, y_tst_predict),sep=\"\")\n",
    "    print(\"For train data:\")\n",
    "    print(\"At \",i,\"th degree MSE = \",mean_squared_error(y_train, y_tr_predicted),\", RMSE = \",sqrt(mean_squared_error(y_train, y_tr_predicted)),\", R2 score = \",r2_score (y_train, y_tr_predicted),\", MAE = \",mean_absolute_error(y_test, y_tst_predict),sep=\"\")"
   ]
  },
  {
   "cell_type": "code",
   "execution_count": 28,
   "id": "0d02b8d9",
   "metadata": {},
   "outputs": [
    {
     "data": {
      "image/png": "[encoded data removed]",
      "text/plain": [
       "<Figure size 1200x800 with 1 Axes>"
      ]
     },
     "metadata": {},
     "output_type": "display_data"
    }
   ],
   "source": [
    "# define X and y\n",
    "import matplotlib.pyplot as plt\n",
    "import numpy as np\n",
    "# X=data.iloc[:,2:7]\n",
    "# X[\"train_class\"]=data[\"train_class\"]\n",
    "# X['smonth'] = X['start_date'].dt.month\n",
    "# X['sday'] = X['start_date'].dt.day\n",
    "# X['shour'] =X['start_date'].dt.hour\n",
    "# X['emonth'] = X['end_date'].dt.month\n",
    "# X['eday'] = X['end_date'].dt.day\n",
    "# X['ehour'] =X['end_date'].dt.hour\n",
    "# X=X.drop(['start_date'],axis=1)\n",
    "# X=X.drop(['end_date'],axis=1)\n",
    "# X=X.astype('int')\n",
    "feature_cols = ['origin','destination','train_type','train_class']#'smonth','sday','shour','emonth','eday','ehour']\n",
    "X = data[feature_cols]\n",
    "y = data.train_type\n",
    "\n",
    "# split X and y into training and testing sets\n",
    "X_train, X_test, y_train, y_test = train_test_split(X, y, test_size=0.30, random_state=0)\n",
    "\n",
    "# Create dictionaries for final graph\n",
    "# Use: methodDict['Stacking'] = accuracy_score\n",
    "from sklearn.ensemble import ExtraTreesClassifier\n",
    "methodDict = {}\n",
    "rmseDict = ()\n",
    "forest = ExtraTreesClassifier(n_estimators=250,\n",
    "                              random_state=0)\n",
    "\n",
    "forest.fit(X, y)\n",
    "importances = forest.feature_importances_\n",
    "std = np.std([tree.feature_importances_ for tree in forest.estimators_],\n",
    "             axis=0)\n",
    "indices = np.argsort(importances)[::-1]\n",
    "\n",
    "labels = []\n",
    "for f in range(X.shape[1]):\n",
    "    labels.append(feature_cols[f])      \n",
    "    \n",
    "# Plot the feature importances of the forest\n",
    "plt.figure(figsize=(12,8))\n",
    "plt.title(\"Feature importances\")\n",
    "plt.bar(range(X.shape[1]), importances[indices],\n",
    "       color=\"r\", yerr=std[indices], align=\"center\")\n",
    "plt.xticks(range(X.shape[1]), labels, rotation='vertical')\n",
    "plt.xlim([-1, X.shape[1]])\n",
    "plt.show()"
   ]
  },
  {
   "cell_type": "code",
   "execution_count": null,
   "id": "93062af2",
   "metadata": {},
   "outputs": [],
   "source": []
  }
 ],
 "metadata": {
  "kernelspec": {
   "display_name": "Python 3 (ipykernel)",
   "language": "python",
   "name": "python3"
  },
  "language_info": {
   "codemirror_mode": {
    "name": "ipython",
    "version": 3
   },
   "file_extension": ".py",
   "mimetype": "text/x-python",
   "name": "python",
   "nbconvert_exporter": "python",
   "pygments_lexer": "ipython3",
   "version": "3.9.7"
  }
 },
 "nbformat": 4,
 "nbformat_minor": 5
}
